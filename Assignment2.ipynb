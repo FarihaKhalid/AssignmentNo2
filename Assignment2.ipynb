{
 "cells": [
  {
   "cell_type": "code",
   "execution_count": 1,
   "metadata": {},
   "outputs": [
    {
     "name": "stdout",
     "output_type": "stream",
     "text": [
      "Enter Marks for English: 90\n",
      "Enter Marks for Maths: 56\n",
      "Enter Marks for Science: 70\n",
      "Enter Marks for Social Studies: 89\n",
      "Enter Marks for Urdu: 70\n",
      "Total Marks secured by you out of 500 are  375\n",
      "Percentage:  75.00\n"
     ]
    }
   ],
   "source": [
    "English = input (\"Enter Marks for English: \")\n",
    "Maths = input(\"Enter Marks for Maths: \")\n",
    "Science = input(\"Enter Marks for Science: \")\n",
    "SocialStudies = input (\"Enter Marks for Social Studies: \")\n",
    "Urdu = input(\"Enter Marks for Urdu: \")\n",
    "\n",
    "Total =int(English) + int(Maths) + int(Science) + int(SocialStudies) + int(Urdu)\n",
    "TotalMarks = (int(Total)) / (int(500)) * 100;\n",
    "Percentage = (int(TotalMarks)) * 100\n",
    "\n",
    "print (\"Total Marks secured by you out of 500 are \", Total)\n",
    "print (\"Percentage: \", (format (TotalMarks, '.2f')))"
   ]
  },
  {
   "cell_type": "code",
   "execution_count": 2,
   "metadata": {},
   "outputs": [
    {
     "name": "stdout",
     "output_type": "stream",
     "text": [
      "Enter the number: 63\n",
      "Given Number is Odd\n"
     ]
    }
   ],
   "source": [
    "UserInput = input(\"Enter the number: \")\n",
    "Answer = (int(UserInput))%2\n",
    "if Answer == 0:\n",
    "\n",
    "    print(\"Given Number is Even\")\n",
    "\n",
    "\n",
    "else:\n",
    "\n",
    "    print(\"Given Number is Odd\")"
   ]
  },
  {
   "cell_type": "code",
   "execution_count": 3,
   "metadata": {},
   "outputs": [
    {
     "name": "stdout",
     "output_type": "stream",
     "text": [
      "Number of items in list are:  4\n"
     ]
    }
   ],
   "source": [
    "list1 = []\n",
    "list1.append(\"My\")\n",
    "list1.append(\"Name\")\n",
    "list1.append(\"is\")\n",
    "list1.append(\"Fariha\")\n",
    "\n",
    "print(\"Number of items in list are: \", len(list1))"
   ]
  },
  {
   "cell_type": "code",
   "execution_count": 4,
   "metadata": {},
   "outputs": [
    {
     "name": "stdout",
     "output_type": "stream",
     "text": [
      "136\n"
     ]
    }
   ],
   "source": [
    "List1 = [1, 76, 59]\n",
    "sum1 = sum(List1)\n",
    "print(sum1)"
   ]
  },
  {
   "cell_type": "code",
   "execution_count": 5,
   "metadata": {},
   "outputs": [
    {
     "name": "stdout",
     "output_type": "stream",
     "text": [
      "9\n"
     ]
    }
   ],
   "source": [
    "List1 = [2,6,9]\n",
    "print(max(List1))"
   ]
  },
  {
   "cell_type": "code",
   "execution_count": 6,
   "metadata": {},
   "outputs": [
    {
     "name": "stdout",
     "output_type": "stream",
     "text": [
      "1\n",
      "1\n",
      "2\n",
      "3\n"
     ]
    }
   ],
   "source": [
    "List2 = [1,1,2,3,5,8,13,21,34,55,89]\n",
    "for x in List2:\n",
    "    if(x < 5):\n",
    "        print(x)"
   ]
  },
  {
   "cell_type": "code",
   "execution_count": null,
   "metadata": {},
   "outputs": [],
   "source": []
  }
 ],
 "metadata": {
  "kernelspec": {
   "display_name": "Python 3",
   "language": "python",
   "name": "python3"
  },
  "language_info": {
   "codemirror_mode": {
    "name": "ipython",
    "version": 3
   },
   "file_extension": ".py",
   "mimetype": "text/x-python",
   "name": "python",
   "nbconvert_exporter": "python",
   "pygments_lexer": "ipython3",
   "version": "3.6.7"
  }
 },
 "nbformat": 4,
 "nbformat_minor": 2
}
